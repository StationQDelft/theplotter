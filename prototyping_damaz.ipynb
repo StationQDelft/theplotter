{
 "cells": [
  {
   "cell_type": "code",
   "execution_count": 1,
   "metadata": {
    "collapsed": false
   },
   "outputs": [
    {
     "name": "stdout",
     "output_type": "stream",
     "text": [
      "Populating the interactive namespace from numpy and matplotlib\n"
     ]
    }
   ],
   "source": [
    "%gui qt5\n",
    "%pylab qt5"
   ]
  },
  {
   "cell_type": "code",
   "execution_count": 2,
   "metadata": {
    "collapsed": false
   },
   "outputs": [
    {
     "name": "stdout",
     "output_type": "stream",
     "text": [
      "pyqtgraph plotting not supported, try \"from qcodes.plots.pyqtgraph import QtPlot\" to see the full error\n"
     ]
    }
   ],
   "source": [
    "from matplotlib import pyplot as plt\n",
    "from matplotlib.widgets import MultiCursor\n",
    "import numpy as np\n",
    "\n",
    "import theplotter.plugins.sources.spyview as spyview\n",
    "from theplotter.plugins import transformations\n",
    "from theplotter.plugins.targets import mpl\n",
    "from theplotter.graph.nodes import SliceTransformation as slt"
   ]
  },
  {
   "cell_type": "code",
   "execution_count": 3,
   "metadata": {
    "collapsed": false
   },
   "outputs": [],
   "source": [
    "import theplotter.plugins.sources.generators as generators"
   ]
  },
  {
   "cell_type": "code",
   "execution_count": 4,
   "metadata": {
    "collapsed": false
   },
   "outputs": [],
   "source": [
    "s1 = spyview.SpyviewSource('D:/data/2017-12-29/2017-12-29_086.dat')"
   ]
  },
  {
   "cell_type": "code",
   "execution_count": 5,
   "metadata": {
    "collapsed": true
   },
   "outputs": [],
   "source": [
    "s1.play()"
   ]
  },
  {
   "cell_type": "code",
   "execution_count": 6,
   "metadata": {
    "collapsed": false
   },
   "outputs": [],
   "source": [
    "s1.dataset['Column 1'] = s1.dataset['Column 1']/10"
   ]
  },
  {
   "cell_type": "code",
   "execution_count": 22,
   "metadata": {
    "collapsed": false
   },
   "outputs": [],
   "source": [
    "tr1 = slt(s1, (200, slice(None), slice(None)))\n",
    "tr1.need_update = True"
   ]
  },
  {
   "cell_type": "code",
   "execution_count": 24,
   "metadata": {
    "collapsed": false
   },
   "outputs": [],
   "source": [
    "p1.play()"
   ]
  },
  {
   "cell_type": "code",
   "execution_count": 25,
   "metadata": {
    "collapsed": false
   },
   "outputs": [
    {
     "data": {
      "text/plain": [
       "True"
      ]
     },
     "execution_count": 25,
     "metadata": {},
     "output_type": "execute_result"
    }
   ],
   "source": [
    "tr1.need_update"
   ]
  },
  {
   "cell_type": "code",
   "execution_count": 26,
   "metadata": {
    "collapsed": false
   },
   "outputs": [],
   "source": [
    "plotwindow = mpl.MPLWindow(nrows=2, ncols=2)\n",
    "p1 = mpl.pcolormesh(datasources=[tr1['Column 1'], tr1['Column 2'], tr1['Column 4']], plottarget=plotwindow[0,0])\n",
    "p2 = mpl.pcolormesh(datasources=[tr1['Column 1'], tr1['Column 2'], tr1['Column 13']], plottarget=plotwindow[0,1])\n",
    "p3 = mpl.lineplot(datasources=[tr1[0, :]['Column 1'], transformations.basic.Average(0, datasources=[tr1['Column 4']])], plottarget=plotwindow[1,0])\n",
    "p4 = mpl.lineplot(datasources=[tr1[0, :]['Column 1'], transformations.basic.Average(0, datasources=[tr1['Column 13']])], plottarget=plotwindow[1,1])\n"
   ]
  },
  {
   "cell_type": "code",
   "execution_count": 14,
   "metadata": {
    "collapsed": false
   },
   "outputs": [],
   "source": [
    "p1.add_widget('multicursor', MultiCursor(plotwindow.fig.canvas, (plotwindow[0,0].ax, plotwindow[0,1].ax), horizOn=True))\n",
    "\n"
   ]
  },
  {
   "cell_type": "code",
   "execution_count": 16,
   "metadata": {
    "collapsed": true
   },
   "outputs": [],
   "source": [
    "crop = transformations.basic.Crop2D(1, 0, 'Column 1', 'Column 2', datasources=[tr1])"
   ]
  },
  {
   "cell_type": "code",
   "execution_count": 17,
   "metadata": {
    "collapsed": true
   },
   "outputs": [],
   "source": [
    "crop.connect_plot(p2)"
   ]
  },
  {
   "cell_type": "code",
   "execution_count": 18,
   "metadata": {
    "collapsed": false
   },
   "outputs": [],
   "source": [
    "plotwindow2 = mpl.MPLWindow(nrows=2, ncols=2)\n",
    "p5 = mpl.pcolormesh(datasources=[crop['Column 1'], crop['Column 2'], crop['Column 4']], plottarget=plotwindow2[0,0])\n",
    "p6 = mpl.pcolormesh(datasources=[crop['Column 1'], crop['Column 2'], crop['Column 13']], plottarget=plotwindow2[0,1])\n",
    "p7 = mpl.lineplot(datasources=[crop[0, :]['Column 1'], transformations.basic.Average(0, datasources=[crop['Column 4']])], plottarget=plotwindow2[1,0])\n",
    "p8 = mpl.lineplot(datasources=[crop[0, :]['Column 1'], transformations.basic.Average(0, datasources=[crop['Column 13']])], plottarget=plotwindow2[1,1])"
   ]
  },
  {
   "cell_type": "code",
   "execution_count": 9,
   "metadata": {
    "collapsed": false
   },
   "outputs": [],
   "source": [
    "newgrid = generators.create_orthogonal_grid(100, 100)\n"
   ]
  },
  {
   "cell_type": "code",
   "execution_count": 20,
   "metadata": {
    "collapsed": true
   },
   "outputs": [],
   "source": [
    "newgrid.connect_plot(p6)"
   ]
  },
  {
   "cell_type": "code",
   "execution_count": 11,
   "metadata": {
    "collapsed": false
   },
   "outputs": [],
   "source": [
    "interpolated = transformations.basic.Interpolate(datasources=[tr1[['Column 1', 'Column 2']], tr1['Column 4'], newgrid])\n",
    "interpolated2 = transformations.basic.Interpolate(datasources=[tr1[['Column 1', 'Column 2']], tr1['Column 13'], newgrid])"
   ]
  },
  {
   "cell_type": "code",
   "execution_count": 12,
   "metadata": {
    "collapsed": true
   },
   "outputs": [],
   "source": [
    "linspace = generators.from_array(np.array([[(i, j) for i in np.linspace(0,1,100)] for j in np.linspace(0, 100, 100)],dtype=np.dtype([('x',np.float64),('y',np.float64)])))"
   ]
  },
  {
   "cell_type": "code",
   "execution_count": 13,
   "metadata": {
    "collapsed": false
   },
   "outputs": [],
   "source": [
    "plotwindow3 = mpl.MPLWindow(nrows=3, ncols=2)\n",
    "p9 = mpl.pcolormesh(datasources=[newgrid['x'], \n",
    "                                 newgrid['y'], \n",
    "                                 interpolated\n",
    "                                ], plottarget=plotwindow3[0,0])\n",
    "p10 = mpl.pcolormesh(datasources=[newgrid['x'], \n",
    "                                 newgrid['y'], \n",
    "                                 interpolated2\n",
    "                                ], plottarget=plotwindow3[0,1])\n",
    "p9b = mpl.pcolormesh(datasources=[linspace['x'], \n",
    "                                 linspace['y'], \n",
    "                                 interpolated\n",
    "                                ], plottarget=plotwindow3[1,0])\n",
    "p10b = mpl.pcolormesh(datasources=[linspace['x'], \n",
    "                                 linspace['y'], \n",
    "                                 interpolated2\n",
    "                                ], plottarget=plotwindow3[1,1])"
   ]
  },
  {
   "cell_type": "code",
   "execution_count": 15,
   "metadata": {
    "collapsed": false
   },
   "outputs": [],
   "source": [
    "p11 = mpl.lineplot(datasources=[\n",
    "        newgrid['x'][:,0], \n",
    "        transformations.basic.Average(1, datasources=[interpolated])], \n",
    "        plottarget=plotwindow3[2,0])\n",
    "p12 = mpl.lineplot(datasources=[\n",
    "        newgrid['x'][:,0], \n",
    "        transformations.basic.Average(1, datasources=[interpolated2])], \n",
    "        plottarget=plotwindow3[2,1])"
   ]
  },
  {
   "cell_type": "code",
   "execution_count": null,
   "metadata": {
    "collapsed": false
   },
   "outputs": [],
   "source": [
    "newgrid.get_data().reshape((100,100), dtype=np.dtype([('x',np.float64),('y',np.float64)]))"
   ]
  },
  {
   "cell_type": "code",
   "execution_count": null,
   "metadata": {
    "collapsed": true
   },
   "outputs": [],
   "source": []
  }
 ],
 "metadata": {
  "anaconda-cloud": {},
  "kernelspec": {
   "display_name": "Python [plotter_env]",
   "language": "python",
   "name": "Python [plotter_env]"
  },
  "language_info": {
   "codemirror_mode": {
    "name": "ipython",
    "version": 3
   },
   "file_extension": ".py",
   "mimetype": "text/x-python",
   "name": "python",
   "nbconvert_exporter": "python",
   "pygments_lexer": "ipython3",
   "version": "3.5.2"
  }
 },
 "nbformat": 4,
 "nbformat_minor": 0
}
