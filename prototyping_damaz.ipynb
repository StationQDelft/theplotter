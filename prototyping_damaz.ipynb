{
 "cells": [
  {
   "cell_type": "code",
   "execution_count": 1,
   "metadata": {
    "collapsed": false
   },
   "outputs": [
    {
     "name": "stdout",
     "output_type": "stream",
     "text": [
      "Populating the interactive namespace from numpy and matplotlib\n"
     ]
    }
   ],
   "source": [
    "%gui qt5\n",
    "%pylab qt5"
   ]
  },
  {
   "cell_type": "code",
   "execution_count": 2,
   "metadata": {
    "collapsed": false
   },
   "outputs": [
    {
     "name": "stdout",
     "output_type": "stream",
     "text": [
      "pyqtgraph plotting not supported, try \"from qcodes.plots.pyqtgraph import QtPlot\" to see the full error\n"
     ]
    }
   ],
   "source": [
    "from matplotlib import pyplot as plt\n",
    "from matplotlib.widgets import MultiCursor\n",
    "import numpy as np\n",
    "\n",
    "import theplotter.plugins.sources.hdf5 as hdf5\n",
    "import theplotter.plugins.sources.spyview as spyview\n",
    "from theplotter.plugins import transformations\n",
    "from theplotter.plugins.targets import mpl\n",
    "from theplotter.graph.nodes import SliceTransformation as slt\n",
    "import theplotter.plugins.sources.generators as generators"
   ]
  },
  {
   "cell_type": "code",
   "execution_count": 3,
   "metadata": {
    "collapsed": false
   },
   "outputs": [],
   "source": [
    "s1 = hdf5.HDF5Source('D:/data/2017-12-29/2017-12-29_086.h5', 'data')"
   ]
  },
  {
   "cell_type": "code",
   "execution_count": 69,
   "metadata": {
    "collapsed": true
   },
   "outputs": [],
   "source": [
    "s1.location = \"D:/data/2018-01-08/2018-01-08_036.dat\"\n",
    "s1.need_update = True"
   ]
  },
  {
   "cell_type": "code",
   "execution_count": 56,
   "metadata": {
    "collapsed": false
   },
   "outputs": [],
   "source": [
    "s1 = spyview.SpyviewSource('D:/data/2018-01-08/2018-01-08_035.dat')"
   ]
  },
  {
   "cell_type": "code",
   "execution_count": 57,
   "metadata": {
    "collapsed": false
   },
   "outputs": [],
   "source": [
    "s1.play()"
   ]
  },
  {
   "cell_type": "code",
   "execution_count": 58,
   "metadata": {
    "collapsed": true
   },
   "outputs": [],
   "source": []
  },
  {
   "cell_type": "code",
   "execution_count": 71,
   "metadata": {
    "collapsed": false
   },
   "outputs": [],
   "source": [
    "s1.dataset['Column 1'] = s1.dataset['Column 1']/10"
   ]
  },
  {
   "cell_type": "code",
   "execution_count": 6,
   "metadata": {
    "collapsed": true
   },
   "outputs": [],
   "source": []
  },
  {
   "cell_type": "code",
   "execution_count": 61,
   "metadata": {
    "collapsed": false
   },
   "outputs": [],
   "source": [
    "tr1 = slt(s1, (0, slice(None), slice(None)))"
   ]
  },
  {
   "cell_type": "code",
   "execution_count": 26,
   "metadata": {
    "collapsed": true
   },
   "outputs": [],
   "source": []
  },
  {
   "cell_type": "code",
   "execution_count": 89,
   "metadata": {
    "collapsed": false
   },
   "outputs": [],
   "source": [
    "slice_nr = 29\n",
    "tr1.update_slice_operator((slice_nr, slice(None), slice(None)))"
   ]
  },
  {
   "cell_type": "code",
   "execution_count": 70,
   "metadata": {
    "collapsed": false
   },
   "outputs": [],
   "source": [
    "plotwindow = mpl.MPLWindow(nrows=2, ncols=2)\n",
    "p1 = mpl.pcolormesh(datasources=[tr1['Column 1'], tr1['Column 2'], tr1['Column 4']], plottarget=plotwindow[0,0])\n",
    "p2 = mpl.pcolormesh(datasources=[tr1['Column 1'], tr1['Column 2'], tr1['Column 13']], plottarget=plotwindow[0,1])\n",
    "p3 = mpl.lineplot(datasources=[tr1[0, :]['Column 1'], transformations.basic.Average(0, datasources=[tr1['Column 4']])], plottarget=plotwindow[1,0])\n",
    "p4 = mpl.lineplot(datasources=[tr1[0, :]['Column 1'], transformations.basic.Average(0, datasources=[tr1['Column 13']])], plottarget=plotwindow[1,1])\n"
   ]
  },
  {
   "cell_type": "code",
   "execution_count": 73,
   "metadata": {
    "collapsed": false
   },
   "outputs": [],
   "source": [
    "p1.add_widget('multicursor', MultiCursor, plotwindow.fig.canvas, (plotwindow[0,0].ax, plotwindow[0,1].ax), horizOn=True)"
   ]
  },
  {
   "cell_type": "code",
   "execution_count": 64,
   "metadata": {
    "collapsed": true
   },
   "outputs": [],
   "source": [
    "crop = transformations.basic.Crop2D(1, 0, 'Column 1', 'Column 2', datasources=[tr1])"
   ]
  },
  {
   "cell_type": "code",
   "execution_count": 85,
   "metadata": {
    "collapsed": true
   },
   "outputs": [],
   "source": [
    "crop.connect_plot(p1)"
   ]
  },
  {
   "cell_type": "code",
   "execution_count": 86,
   "metadata": {
    "collapsed": true
   },
   "outputs": [],
   "source": [
    "crop.connect_plot(p2)"
   ]
  },
  {
   "cell_type": "code",
   "execution_count": 14,
   "metadata": {
    "collapsed": true
   },
   "outputs": [],
   "source": [
    "std1 =  transformations.basic.STD(0, datasources=[crop['Column 13']])\n",
    "std2 =  transformations.basic.STD(1, datasources=[crop['Column 13']])"
   ]
  },
  {
   "cell_type": "code",
   "execution_count": 67,
   "metadata": {
    "collapsed": true
   },
   "outputs": [],
   "source": [
    "std3 = transformations.basic.STD(0, datasources=[\n",
    "        transformations.basic.Reshape((-1), datasources=[crop['Column 13']])\n",
    "    ])"
   ]
  },
  {
   "cell_type": "code",
   "execution_count": 68,
   "metadata": {
    "collapsed": false
   },
   "outputs": [
    {
     "data": {
      "text/plain": [
       "19.478685345183639"
      ]
     },
     "execution_count": 68,
     "metadata": {},
     "output_type": "execute_result"
    }
   ],
   "source": [
    "std3.play()\n",
    "std3.get_data()"
   ]
  },
  {
   "cell_type": "code",
   "execution_count": 37,
   "metadata": {
    "collapsed": true
   },
   "outputs": [],
   "source": [
    "plotwindow2 = mpl.MPLWindow(nrows=2, ncols=2)"
   ]
  },
  {
   "cell_type": "code",
   "execution_count": 38,
   "metadata": {
    "collapsed": false
   },
   "outputs": [],
   "source": [
    "\n",
    "p5 = mpl.pcolormesh(datasources=[crop['Column 1'], crop['Column 2'], crop['Column 4']], plottarget=plotwindow2[0,0])\n",
    "p6 = mpl.pcolormesh(datasources=[crop['Column 1'], crop['Column 2'], crop['Column 13']], plottarget=plotwindow2[0,1])\n",
    "p7 = mpl.lineplot(datasources=[crop[0, :]['Column 1'], std1], plottarget=plotwindow2[1,0])\n",
    "p8 = mpl.lineplot(datasources=[crop[:, 0]['Column 2'], std2], plottarget=plotwindow2[1,1])"
   ]
  },
  {
   "cell_type": "code",
   "execution_count": 49,
   "metadata": {
    "collapsed": true
   },
   "outputs": [],
   "source": [
    "p5.add_widget('multicursor', MultiCursor, plotwindow2.fig.canvas, (plotwindow2[0,0].ax, plotwindow2[0,1].ax), horizOn=True)"
   ]
  },
  {
   "cell_type": "code",
   "execution_count": 19,
   "metadata": {
    "collapsed": false
   },
   "outputs": [],
   "source": [
    "newgrid = generators.create_orthogonal_grid(100, 100)"
   ]
  },
  {
   "cell_type": "code",
   "execution_count": 39,
   "metadata": {
    "collapsed": false
   },
   "outputs": [],
   "source": [
    "newgrid.connect_plot(p6)"
   ]
  },
  {
   "cell_type": "code",
   "execution_count": 21,
   "metadata": {
    "collapsed": false
   },
   "outputs": [],
   "source": [
    "interpolated = transformations.basic.Interpolate(datasources=[tr1[['Column 1', 'Column 2']], tr1['Column 4'], newgrid])\n",
    "interpolated2 = transformations.basic.Interpolate(datasources=[tr1[['Column 1', 'Column 2']], tr1['Column 13'], newgrid])"
   ]
  },
  {
   "cell_type": "code",
   "execution_count": 22,
   "metadata": {
    "collapsed": true
   },
   "outputs": [],
   "source": [
    "linspace = generators.from_array(np.array([[(i, j) for i in np.linspace(0,1,100)] for j in np.linspace(0, 100, 100)],dtype=np.dtype([('x',np.float64),('y',np.float64)])))"
   ]
  },
  {
   "cell_type": "code",
   "execution_count": 40,
   "metadata": {
    "collapsed": false
   },
   "outputs": [],
   "source": [
    "plotwindow3 = mpl.MPLWindow(nrows=4, ncols=2)\n",
    "p9 = mpl.pcolormesh(datasources=[newgrid['x'], \n",
    "                                 newgrid['y'], \n",
    "                                 interpolated\n",
    "                                ], plottarget=plotwindow3[0,0])\n",
    "p10 = mpl.pcolormesh(datasources=[newgrid['x'], \n",
    "                                 newgrid['y'], \n",
    "                                 interpolated2\n",
    "                                ], plottarget=plotwindow3[0,1])\n",
    "p9b = mpl.pcolormesh(datasources=[linspace['x'], \n",
    "                                 linspace['y'], \n",
    "                                 interpolated\n",
    "                                ], plottarget=plotwindow3[1,0])\n",
    "p10b = mpl.pcolormesh(datasources=[linspace['x'], \n",
    "                                 linspace['y'], \n",
    "                                 interpolated2\n",
    "                                ], plottarget=plotwindow3[1,1])"
   ]
  },
  {
   "cell_type": "code",
   "execution_count": 41,
   "metadata": {
    "collapsed": false
   },
   "outputs": [],
   "source": [
    "p11 = mpl.lineplot(datasources=[\n",
    "        newgrid['x'][:,0]+newgrid['y'][:,0], \n",
    "        transformations.basic.Average(1, datasources=[interpolated])], \n",
    "        plottarget=plotwindow3[2,0])\n",
    "p12 = mpl.lineplot(datasources=[\n",
    "        newgrid['x'][:,0]+newgrid['y'][:,0], \n",
    "        transformations.basic.Average(1, datasources=[interpolated2])], \n",
    "        plottarget=plotwindow3[2,1])"
   ]
  },
  {
   "cell_type": "code",
   "execution_count": 42,
   "metadata": {
    "collapsed": true
   },
   "outputs": [],
   "source": [
    "p13 = mpl.lineplot(datasources=[\n",
    "        newgrid['x'][:,0], \n",
    "        transformations.basic.STD(1, datasources=[interpolated])], \n",
    "        plottarget=plotwindow3[3,0])\n",
    "p14 = mpl.lineplot(datasources=[\n",
    "        newgrid['x'][:,0], \n",
    "        transformations.basic.STD(1, datasources=[interpolated2])], \n",
    "        plottarget=plotwindow3[3,1])"
   ]
  },
  {
   "cell_type": "code",
   "execution_count": null,
   "metadata": {
    "collapsed": true
   },
   "outputs": [],
   "source": [
    "f = h5py.File('D:/data/2017-12-29/2017-12-29_086_cq.h5', 'a')"
   ]
  },
  {
   "cell_type": "code",
   "execution_count": null,
   "metadata": {
    "collapsed": false
   },
   "outputs": [],
   "source": [
    "c1 = crop['Column 1']\n",
    "c2 = crop['Column 2']\n",
    "c4 = crop['Column 4']\n",
    "c13 = crop['Column 13']\n",
    "c1.play()\n",
    "c2.play()\n",
    "c4.play()\n",
    "c13.play()\n",
    "group = str(slice_nr)+\"_(\"+str(c1.get_data()[0,0])+\",\"+str(c2.get_data()[0,0])+\")\"\n",
    "f[group+'/x'] = c1.get_data()\n",
    "f[group+'/y'] = c2.get_data()\n",
    "f[group+'/c4'] = c4.get_data()\n",
    "f[group+'/c13'] = c13.get_data()\n",
    "\n",
    "newx = newgrid['x']\n",
    "newx.play()\n",
    "newy = newgrid['y']\n",
    "newy.play()\n",
    "new4 = interpolated\n",
    "new4.play()\n",
    "new13 = interpolated2\n",
    "new13.play()\n",
    "\n",
    "f[group+'/newx'] = newx.get_data()\n",
    "f[group+'/newy'] = newy.get_data()\n",
    "f[group+'/new4'] = new4.get_data()\n",
    "f[group+'/new13'] = new13.get_data()"
   ]
  },
  {
   "cell_type": "code",
   "execution_count": null,
   "metadata": {
    "collapsed": true
   },
   "outputs": [],
   "source": [
    "f.close()"
   ]
  },
  {
   "cell_type": "code",
   "execution_count": null,
   "metadata": {
    "collapsed": true
   },
   "outputs": [],
   "source": []
  },
  {
   "cell_type": "code",
   "execution_count": null,
   "metadata": {
    "collapsed": false
   },
   "outputs": [],
   "source": [
    "newgrid.get_data().reshape((100,100), dtype=np.dtype([('x',np.float64),('y',np.float64)]))"
   ]
  },
  {
   "cell_type": "code",
   "execution_count": null,
   "metadata": {
    "collapsed": false
   },
   "outputs": [],
   "source": []
  },
  {
   "cell_type": "code",
   "execution_count": null,
   "metadata": {
    "collapsed": true
   },
   "outputs": [],
   "source": [
    "std.play()"
   ]
  },
  {
   "cell_type": "code",
   "execution_count": null,
   "metadata": {
    "collapsed": false
   },
   "outputs": [],
   "source": [
    "std.get_data()"
   ]
  },
  {
   "cell_type": "code",
   "execution_count": null,
   "metadata": {
    "collapsed": false
   },
   "outputs": [],
   "source": [
    "t = newgrid['x'][:,0]\n",
    "t.play()\n",
    "t.get_data()"
   ]
  },
  {
   "cell_type": "code",
   "execution_count": null,
   "metadata": {
    "collapsed": false
   },
   "outputs": [],
   "source": [
    "t2 = newgrid['y'][:,0]\n",
    "t2.play()\n",
    "t2.get_data()"
   ]
  },
  {
   "cell_type": "code",
   "execution_count": null,
   "metadata": {
    "collapsed": false
   },
   "outputs": [],
   "source": [
    "t.get_data()+t2.get_data()"
   ]
  },
  {
   "cell_type": "code",
   "execution_count": null,
   "metadata": {
    "collapsed": false
   },
   "outputs": [],
   "source": [
    "t.get_data().dtype"
   ]
  },
  {
   "cell_type": "code",
   "execution_count": null,
   "metadata": {
    "collapsed": false
   },
   "outputs": [],
   "source": [
    "dt = tr1.get_data().dtype"
   ]
  },
  {
   "cell_type": "code",
   "execution_count": null,
   "metadata": {
    "collapsed": false
   },
   "outputs": [],
   "source": [
    "n = np.zeros((tr1.get_data().shape), dtype=dt)"
   ]
  },
  {
   "cell_type": "code",
   "execution_count": null,
   "metadata": {
    "collapsed": false
   },
   "outputs": [],
   "source": [
    "for name in dt.names:\n",
    "    n[name]= tr1.get_data()[name]+tr1.get_data()[name]"
   ]
  },
  {
   "cell_type": "code",
   "execution_count": null,
   "metadata": {
    "collapsed": false
   },
   "outputs": [],
   "source": [
    "for dt in tr1.get_data().dtype:\n",
    "    print(dt)"
   ]
  },
  {
   "cell_type": "code",
   "execution_count": null,
   "metadata": {
    "collapsed": false
   },
   "outputs": [],
   "source": [
    "len(tr1.get_data().dtype)"
   ]
  },
  {
   "cell_type": "code",
   "execution_count": null,
   "metadata": {
    "collapsed": false
   },
   "outputs": [],
   "source": [
    "t.get_data().dtype"
   ]
  },
  {
   "cell_type": "code",
   "execution_count": null,
   "metadata": {
    "collapsed": false
   },
   "outputs": [],
   "source": [
    "len(t.get_data().dtype)"
   ]
  },
  {
   "cell_type": "code",
   "execution_count": null,
   "metadata": {
    "collapsed": false
   },
   "outputs": [],
   "source": [
    "tr1.get_data()+tr1.get_data()"
   ]
  },
  {
   "cell_type": "code",
   "execution_count": null,
   "metadata": {
    "collapsed": false
   },
   "outputs": [],
   "source": [
    "t.get_data()+t.get_data()"
   ]
  },
  {
   "cell_type": "code",
   "execution_count": null,
   "metadata": {
    "collapsed": false
   },
   "outputs": [],
   "source": [
    "t.get_data()"
   ]
  },
  {
   "cell_type": "code",
   "execution_count": null,
   "metadata": {
    "collapsed": false
   },
   "outputs": [],
   "source": [
    "t.get_data()+t.get_data()"
   ]
  },
  {
   "cell_type": "code",
   "execution_count": null,
   "metadata": {
    "collapsed": true
   },
   "outputs": [],
   "source": [
    "import h5py"
   ]
  },
  {
   "cell_type": "code",
   "execution_count": null,
   "metadata": {
    "collapsed": true
   },
   "outputs": [],
   "source": []
  },
  {
   "cell_type": "code",
   "execution_count": null,
   "metadata": {
    "collapsed": true
   },
   "outputs": [],
   "source": [
    "f['data'] = s1.get_data()"
   ]
  },
  {
   "cell_type": "code",
   "execution_count": null,
   "metadata": {
    "collapsed": true
   },
   "outputs": [],
   "source": [
    "f.close()"
   ]
  },
  {
   "cell_type": "code",
   "execution_count": null,
   "metadata": {
    "collapsed": false
   },
   "outputs": [],
   "source": [
    "f = h5py.File('test.h5', 'a')"
   ]
  },
  {
   "cell_type": "code",
   "execution_count": null,
   "metadata": {
    "collapsed": false
   },
   "outputs": [],
   "source": [
    "f['group2/data'] = newgrid.get_data()\n",
    "f['group2/data2'] = interpolated.get_data()"
   ]
  },
  {
   "cell_type": "code",
   "execution_count": null,
   "metadata": {
    "collapsed": true
   },
   "outputs": [],
   "source": [
    "f['group2/data'] = newgrid.get_data()"
   ]
  },
  {
   "cell_type": "code",
   "execution_count": null,
   "metadata": {
    "collapsed": false
   },
   "outputs": [],
   "source": [
    "f.get()"
   ]
  },
  {
   "cell_type": "code",
   "execution_count": null,
   "metadata": {
    "collapsed": false
   },
   "outputs": [],
   "source": [
    "t = f.items()"
   ]
  },
  {
   "cell_type": "code",
   "execution_count": null,
   "metadata": {
    "collapsed": false
   },
   "outputs": [],
   "source": [
    "for key in f.keys():\n",
    "    print(key)"
   ]
  },
  {
   "cell_type": "code",
   "execution_count": null,
   "metadata": {
    "collapsed": false
   },
   "outputs": [],
   "source": [
    "np.array(f['phase'])"
   ]
  },
  {
   "cell_type": "code",
   "execution_count": null,
   "metadata": {
    "collapsed": true
   },
   "outputs": [],
   "source": [
    "t2 = np.array(f['coordinates'])"
   ]
  },
  {
   "cell_type": "code",
   "execution_count": null,
   "metadata": {
    "collapsed": false
   },
   "outputs": [],
   "source": [
    "t2.dtype"
   ]
  },
  {
   "cell_type": "code",
   "execution_count": null,
   "metadata": {
    "collapsed": false
   },
   "outputs": [],
   "source": [
    "t2.shape"
   ]
  },
  {
   "cell_type": "code",
   "execution_count": null,
   "metadata": {
    "collapsed": true
   },
   "outputs": [],
   "source": [
    "f.close()"
   ]
  },
  {
   "cell_type": "code",
   "execution_count": null,
   "metadata": {
    "collapsed": true
   },
   "outputs": [],
   "source": []
  }
 ],
 "metadata": {
  "anaconda-cloud": {},
  "kernelspec": {
   "display_name": "Python [plotter_env]",
   "language": "python",
   "name": "Python [plotter_env]"
  },
  "language_info": {
   "codemirror_mode": {
    "name": "ipython",
    "version": 3
   },
   "file_extension": ".py",
   "mimetype": "text/x-python",
   "name": "python",
   "nbconvert_exporter": "python",
   "pygments_lexer": "ipython3",
   "version": "3.5.2"
  }
 },
 "nbformat": 4,
 "nbformat_minor": 0
}
