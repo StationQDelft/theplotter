{
 "cells": [
  {
   "cell_type": "code",
   "execution_count": null,
   "metadata": {},
   "outputs": [],
   "source": [
    "import numpy as np\n",
    "from matplotlib import pyplot as plt\n",
    "import copy\n",
    "\n",
    "%matplotlib qt5"
   ]
  },
  {
   "cell_type": "code",
   "execution_count": null,
   "metadata": {
    "collapsed": true
   },
   "outputs": [],
   "source": [
    ""
   ]
  },
  {
   "cell_type": "code",
   "execution_count": null,
   "metadata": {},
   "outputs": [],
   "source": [
    "class Figure(object):\n",
    "    def __init__(self, data, coords=None):\n",
    "        self.data = data\n",
    "        self.coords = coords\n",
    "        self.transformers = []\n",
    "        \n",
    "        if self.coords is None:\n",
    "            shp = self.data[1].shape\n",
    "            self.coords = [(f\"Axis {i}\", np.arange(s)) for i, s in enumerate(shp)]\n",
    "        \n",
    "    def transform(self):\n",
    "        d, c = self.data, self.coords\n",
    "        for cls, opts in self.transformers:\n",
    "            t = cls()\n",
    "            d, c = t.transform(d, c, **opts)\n",
    "        return d, c\n",
    "        \n",
    "    \n",
    "    def plot(self):\n",
    "        raise NotImplementedError\n",
    "        \n",
    "        \n",
    "class Transformer(object):\n",
    "    \n",
    "    def transform(self, data, coords, **kw):\n",
    "        raise NotImplementedError\n",
    "        \n",
    "\n",
    "class Average(Transformer):\n",
    "    \n",
    "    def transform(self, data, coords, axis=0):\n",
    "        if type(axis) == str:\n",
    "            for i, (n, _) in enumerate(coords):\n",
    "                if n == axis:\n",
    "                    axis = i\n",
    "                    break\n",
    "        if type(axis) == str:\n",
    "            raise ValueError(\"Unknown axis given.\")\n",
    "            \n",
    "        c = [c for i, c in enumerate(coords) if i != axis]\n",
    "        d = [data[0], data[1].mean(axis=axis)]\n",
    "        \n",
    "        return d, c\n",
    "        \n",
    "        \n",
    "\n",
    "class MplPlot(object):\n",
    "    _axes = []\n",
    "        \n",
    "\n",
    "class MplLinePlot(MplPlot):\n",
    "    \n",
    "    default_opts = dict(\n",
    "        marker = 'o',\n",
    "        lw = 1,\n",
    "        mew = 0,\n",
    "    )\n",
    "    \n",
    "    def __init__(self, fig, ax=None):\n",
    "        self.fig = fig\n",
    "        if ax is None:\n",
    "            self.ax = fig.add_subplot(1, 1, 1)\n",
    "        else:\n",
    "            self.ax = ax\n",
    "        self._axes.append(ax)\n",
    "            \n",
    "    \n",
    "    def plot(self, x, y, **plotkw):\n",
    "        opts = self.default_opts.copy()\n",
    "        opts.update(plotkw)\n",
    "        self.ax.plot(x, y, **opts)\n",
    "\n",
    "\n",
    "class MplFigure(Figure):\n",
    "    \n",
    "    def __init__(self, *arg, **kw):\n",
    "        super().__init__(*arg, **kw)\n",
    "        self.figure = plt.figure()\n",
    "    \n",
    "    \n",
    "    def plot(self):\n",
    "        d, c = self.transform()\n",
    "        naxes = len(c)\n",
    "        \n",
    "        if naxes == 1:\n",
    "            p = MplLinePlot(self.figure)\n",
    "            p.plot(c[0][1], d[1])\n",
    "            p.ax.set_xlabel(c[0][0])\n",
    "            p.ax.set_ylabel(d[0])"
   ]
  },
  {
   "cell_type": "code",
   "execution_count": null,
   "metadata": {
    "collapsed": true
   },
   "outputs": [],
   "source": [
    ""
   ]
  },
  {
   "cell_type": "code",
   "execution_count": null,
   "metadata": {
    "scrolled": true
   },
   "outputs": [],
   "source": [
    "x = np.linspace(0, 10, 51)\n",
    "y = np.linspace(0, 10, 51)\n",
    "\n",
    "xx, yy = np.meshgrid(x, y, indexing='ij')\n",
    "z = np.cos(xx) * np.cos(yy)\n",
    "\n",
    "coords = [('x', x), ('y', y)]\n",
    "data = ('cos(x) * cos(y)', z)\n",
    "\n",
    "f = MplFigure(data, coords)\n",
    "f.transformers.append((Average, dict(axis='y')))\n",
    "f.plot()"
   ]
  },
  {
   "cell_type": "code",
   "execution_count": null,
   "metadata": {
    "collapsed": true
   },
   "outputs": [],
   "source": [
    "z.m"
   ]
  }
 ],
 "metadata": {
  "kernelspec": {
   "display_name": "Python 3",
   "language": "python",
   "name": "python3"
  },
  "language_info": {
   "codemirror_mode": {
    "name": "ipython",
    "version": 3.0
   },
   "file_extension": ".py",
   "mimetype": "text/x-python",
   "name": "python",
   "nbconvert_exporter": "python",
   "pygments_lexer": "ipython3",
   "version": "3.6.3"
  }
 },
 "nbformat": 4,
 "nbformat_minor": 0
}